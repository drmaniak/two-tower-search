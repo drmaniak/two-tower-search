{
 "cells": [
  {
   "cell_type": "code",
   "execution_count": 1,
   "metadata": {},
   "outputs": [],
   "source": [
    "from tqdm import tqdm"
   ]
  },
  {
   "cell_type": "code",
   "execution_count": 2,
   "metadata": {},
   "outputs": [
    {
     "name": "stderr",
     "output_type": "stream",
     "text": [
      "/Users/yuliagoryachev/miniconda3/envs/mlx_course/lib/python3.11/site-packages/tqdm/auto.py:21: TqdmWarning: IProgress not found. Please update jupyter and ipywidgets. See https://ipywidgets.readthedocs.io/en/stable/user_install.html\n",
      "  from .autonotebook import tqdm as notebook_tqdm\n"
     ]
    }
   ],
   "source": [
    "from datasets import load_dataset\n",
    "\n",
    "ds = load_dataset(\"microsoft/ms_marco\", \"v2.1\")"
   ]
  },
  {
   "cell_type": "code",
   "execution_count": 3,
   "metadata": {},
   "outputs": [
    {
     "data": {
      "text/plain": [
       "dict_keys(['validation', 'train', 'test'])"
      ]
     },
     "execution_count": 3,
     "metadata": {},
     "output_type": "execute_result"
    }
   ],
   "source": [
    "ds.keys()"
   ]
  },
  {
   "cell_type": "code",
   "execution_count": 4,
   "metadata": {},
   "outputs": [
    {
     "data": {
      "text/plain": [
       "['answers', 'passages', 'query', 'query_id', 'query_type', 'wellFormedAnswers']"
      ]
     },
     "execution_count": 4,
     "metadata": {},
     "output_type": "execute_result"
    }
   ],
   "source": [
    "ds['train'].column_names"
   ]
  },
  {
   "cell_type": "code",
   "execution_count": 5,
   "metadata": {},
   "outputs": [
    {
     "data": {
      "text/plain": [
       "{'answers': ['The immediate impact of the success of the manhattan project was the only cloud hanging over the impressive achievement of the atomic researchers and engineers is what their success truly meant; hundreds of thousands of innocent lives obliterated.'],\n",
       " 'passages': {'is_selected': [1, 0, 0, 0, 0, 0, 0, 0, 0, 0],\n",
       "  'passage_text': ['The presence of communication amid scientific minds was equally important to the success of the Manhattan Project as scientific intellect was. The only cloud hanging over the impressive achievement of the atomic researchers and engineers is what their success truly meant; hundreds of thousands of innocent lives obliterated.',\n",
       "   'The Manhattan Project and its atomic bomb helped bring an end to World War II. Its legacy of peaceful uses of atomic energy continues to have an impact on history and science.',\n",
       "   'Essay on The Manhattan Project - The Manhattan Project The Manhattan Project was to see if making an atomic bomb possible. The success of this project would forever change the world forever making it known that something this powerful can be manmade.',\n",
       "   'The Manhattan Project was the name for a project conducted during World War II, to develop the first atomic bomb. It refers specifically to the period of the project from 194 … 2-1946 under the control of the U.S. Army Corps of Engineers, under the administration of General Leslie R. Groves.',\n",
       "   'versions of each volume as well as complementary websites. The first website–The Manhattan Project: An Interactive History–is available on the Office of History and Heritage Resources website, http://www.cfo. doe.gov/me70/history. The Office of History and Heritage Resources and the National Nuclear Security',\n",
       "   'The Manhattan Project. This once classified photograph features the first atomic bomb — a weapon that atomic scientists had nicknamed Gadget.. The nuclear age began on July 16, 1945, when it was detonated in the New Mexico desert.',\n",
       "   'Nor will it attempt to substitute for the extraordinarily rich literature on the atomic bombs and the end of World War II. This collection does not attempt to document the origins and development of the Manhattan Project.',\n",
       "   'Manhattan Project. The Manhattan Project was a research and development undertaking during World War II that produced the first nuclear weapons. It was led by the United States with the support of the United Kingdom and Canada. From 1942 to 1946, the project was under the direction of Major General Leslie Groves of the U.S. Army Corps of Engineers. Nuclear physicist Robert Oppenheimer was the director of the Los Alamos Laboratory that designed the actual bombs. The Army component of the project was designated the',\n",
       "   'In June 1942, the United States Army Corps of Engineersbegan the Manhattan Project- The secret name for the 2 atomic bombs.',\n",
       "   \"One of the main reasons Hanford was selected as a site for the Manhattan Project's B Reactor was its proximity to the Columbia River, the largest river flowing into the Pacific Ocean from the North American coast.\"],\n",
       "  'url': ['http://www.pitt.edu/~sdb14/atombomb.html',\n",
       "   'http://www.osti.gov/accomplishments/manhattan_story.html',\n",
       "   'http://www.123helpme.com/impact-of-the-manhattan-project-preview.asp?id=177337',\n",
       "   'http://www.answers.com/Q/How_did_the_Manhattan_Project_impact_on_society',\n",
       "   'https://www.osti.gov/manhattan-project-history/publications/Manhattan_Project_2010.pdf',\n",
       "   'http://www.ushistory.org/us/51f.asp',\n",
       "   'http://nsarchive.gwu.edu/NSAEBB/NSAEBB162',\n",
       "   'https://en.wikipedia.org/wiki/Manhattan_Project',\n",
       "   'https://quizlet.com/41456230/a-bomb-flash-cards/',\n",
       "   'https://www.atomicheritage.org/history/environmental-consequences']},\n",
       " 'query': ')what was the immediate impact of the success of the manhattan project?',\n",
       " 'query_id': 1185869,\n",
       " 'query_type': 'DESCRIPTION',\n",
       " 'wellFormedAnswers': []}"
      ]
     },
     "execution_count": 5,
     "metadata": {},
     "output_type": "execute_result"
    }
   ],
   "source": [
    "ds['train'][0]"
   ]
  },
  {
   "cell_type": "code",
   "execution_count": 6,
   "metadata": {},
   "outputs": [
    {
     "data": {
      "text/plain": [
       "['The presence of communication amid scientific minds was equally important to the success of the Manhattan Project as scientific intellect was. The only cloud hanging over the impressive achievement of the atomic researchers and engineers is what their success truly meant; hundreds of thousands of innocent lives obliterated.',\n",
       " 'The Manhattan Project and its atomic bomb helped bring an end to World War II. Its legacy of peaceful uses of atomic energy continues to have an impact on history and science.',\n",
       " 'Essay on The Manhattan Project - The Manhattan Project The Manhattan Project was to see if making an atomic bomb possible. The success of this project would forever change the world forever making it known that something this powerful can be manmade.',\n",
       " 'The Manhattan Project was the name for a project conducted during World War II, to develop the first atomic bomb. It refers specifically to the period of the project from 194 … 2-1946 under the control of the U.S. Army Corps of Engineers, under the administration of General Leslie R. Groves.',\n",
       " 'versions of each volume as well as complementary websites. The first website–The Manhattan Project: An Interactive History–is available on the Office of History and Heritage Resources website, http://www.cfo. doe.gov/me70/history. The Office of History and Heritage Resources and the National Nuclear Security',\n",
       " 'The Manhattan Project. This once classified photograph features the first atomic bomb — a weapon that atomic scientists had nicknamed Gadget.. The nuclear age began on July 16, 1945, when it was detonated in the New Mexico desert.',\n",
       " 'Nor will it attempt to substitute for the extraordinarily rich literature on the atomic bombs and the end of World War II. This collection does not attempt to document the origins and development of the Manhattan Project.',\n",
       " 'Manhattan Project. The Manhattan Project was a research and development undertaking during World War II that produced the first nuclear weapons. It was led by the United States with the support of the United Kingdom and Canada. From 1942 to 1946, the project was under the direction of Major General Leslie Groves of the U.S. Army Corps of Engineers. Nuclear physicist Robert Oppenheimer was the director of the Los Alamos Laboratory that designed the actual bombs. The Army component of the project was designated the',\n",
       " 'In June 1942, the United States Army Corps of Engineersbegan the Manhattan Project- The secret name for the 2 atomic bombs.',\n",
       " \"One of the main reasons Hanford was selected as a site for the Manhattan Project's B Reactor was its proximity to the Columbia River, the largest river flowing into the Pacific Ocean from the North American coast.\"]"
      ]
     },
     "execution_count": 6,
     "metadata": {},
     "output_type": "execute_result"
    }
   ],
   "source": [
    "ds['train'][0]['passages']['passage_text']"
   ]
  },
  {
   "cell_type": "code",
   "execution_count": 7,
   "metadata": {},
   "outputs": [
    {
     "data": {
      "text/plain": [
       "808731"
      ]
     },
     "execution_count": 7,
     "metadata": {},
     "output_type": "execute_result"
    }
   ],
   "source": [
    "len(ds['train'])"
   ]
  },
  {
   "cell_type": "code",
   "execution_count": 8,
   "metadata": {},
   "outputs": [
    {
     "name": "stdout",
     "output_type": "stream",
     "text": [
      "808731 101093 101092\n"
     ]
    }
   ],
   "source": [
    "train = ds['train']\n",
    "valid = ds['validation']\n",
    "test = ds['test']\n",
    "print(len(train), len(valid), len(test))\n"
   ]
  },
  {
   "cell_type": "code",
   "execution_count": 9,
   "metadata": {},
   "outputs": [],
   "source": [
    "import random\n",
    "#random seed\n",
    "random.seed(42)"
   ]
  },
  {
   "cell_type": "code",
   "execution_count": 10,
   "metadata": {},
   "outputs": [
    {
     "data": {
      "text/plain": [
       "['https://www.justice.gov/ovw/file/926101/download',\n",
       " 'https://quizlet.com/1128245/criminal-justice-exam-1-flash-cards/',\n",
       " 'http://restorativejustice.org/restorative-justice/about-restorative-justice/tutorial-intro-to-restorative-justice/',\n",
       " 'https://www.ojjdp.gov/pubs/implementing/accountability.html',\n",
       " 'http://www.westerncriminology.org/documents/WCR/v01n1/Umbreit/Umbreit.html',\n",
       " 'https://www.sciencedirect.com/science/article/pii/B9781455731398000030',\n",
       " 'https://en.wikipedia.org/wiki/Restorative_justice',\n",
       " 'http://www.adrac.org.au/adr-mapping/criminal-justice-and-adr',\n",
       " 'https://www.mediate.com/articles/kirschnersbl20180126.cfm',\n",
       " 'https://www.sciencedirect.com/science/article/pii/B978145572599100014X']"
      ]
     },
     "execution_count": 10,
     "metadata": {},
     "output_type": "execute_result"
    }
   ],
   "source": [
    "ds['train'][1]['passages']['url']"
   ]
  },
  {
   "cell_type": "code",
   "execution_count": 45,
   "metadata": {},
   "outputs": [
    {
     "name": "stderr",
     "output_type": "stream",
     "text": [
      "100%|██████████| 80873/80873 [02:15<00:00, 596.69it/s]\n"
     ]
    }
   ],
   "source": [
    "train_triples = []\n",
    "for i in tqdm(range(0,len(train)//10)):\n",
    "    query = ds['train'][i]['query']\n",
    "    for k, passage in enumerate(ds['train'][i]['passages']['passage_text']):\n",
    "        # print(passage)\n",
    "        sample = {}\n",
    "        sample['query'] = query\n",
    "        sample['positive'] = passage\n",
    "        sample['positive_url'] = ds['train'][i]['passages']['url'][k]\n",
    "        while True:\n",
    "            random_ind = random.randint(0, len(ds['train'])-1)\n",
    "            if random_ind != i:\n",
    "                break\n",
    "\n",
    "        negatives = ds['train'][random_ind]['passages']['passage_text']\n",
    "        #make random selection of these passages\n",
    "        sample['negative'] = random.choice(negatives)\n",
    "        sample['negative_url'] = ds['train'][random_ind]['passages']['url'][negatives.index(sample['negative'])]\n",
    "        train_triples.append(sample)"
   ]
  },
  {
   "cell_type": "code",
   "execution_count": 46,
   "metadata": {},
   "outputs": [],
   "source": [
    "#save the train triples\n",
    "import json\n",
    "json.dump(train_triples, open('train_triples_0_10.json', 'w'))"
   ]
  },
  {
   "cell_type": "code",
   "execution_count": 47,
   "metadata": {},
   "outputs": [],
   "source": [
    "json.dump(train_triples[:5], open('train_triples_sample.json', 'w'))"
   ]
  },
  {
   "cell_type": "code",
   "execution_count": null,
   "metadata": {},
   "outputs": [],
   "source": [
    "#validation triples\n",
    "valid_triples = []\n",
    "for i in tqdm(range(len(valid)//3)):\n",
    "    query = ds['validation'][i]['query']\n",
    "    for k, passage in enumerate(ds['validation'][i]['passages']['passage_text']):\n",
    "        # print(passage)\n",
    "        sample = {}\n",
    "        sample['query'] = query\n",
    "        sample['positive'] = passage\n",
    "        sample['positive_url'] = ds['validation'][i]['passages']['url'][k]\n",
    "        while True:\n",
    "            random_ind = random.randint(0, len(ds['validation'])-1)\n",
    "            if random_ind != i:\n",
    "                break\n",
    "\n",
    "        negatives = ds['validation'][random_ind]['passages']['passage_text']\n",
    "        #make random selection of these passages\n",
    "        sample['negative'] = random.choice(negatives)\n",
    "        sample['negative_url'] = ds['validation'][random_ind]['passages']['url'][negatives.index(sample['negative'])]\n",
    "        valid_triples.append(sample)"
   ]
  },
  {
   "cell_type": "markdown",
   "metadata": {},
   "source": [
    "## Make the vocab"
   ]
  },
  {
   "cell_type": "code",
   "execution_count": 11,
   "metadata": {},
   "outputs": [
    {
     "name": "stderr",
     "output_type": "stream",
     "text": [
      "[nltk_data] Downloading package stopwords to\n",
      "[nltk_data]     /Users/yuliagoryachev/nltk_data...\n",
      "[nltk_data]   Package stopwords is already up-to-date!\n"
     ]
    }
   ],
   "source": [
    "from utils import tokenize"
   ]
  },
  {
   "cell_type": "code",
   "execution_count": 12,
   "metadata": {},
   "outputs": [
    {
     "data": {
      "text/plain": [
       "['immediate', 'impact', 'success', 'manhattan', 'project']"
      ]
     },
     "execution_count": 12,
     "metadata": {},
     "output_type": "execute_result"
    }
   ],
   "source": [
    "tokenize(\")what was the immediate impact of the success of the manhattan project?\", {})"
   ]
  },
  {
   "cell_type": "code",
   "execution_count": 13,
   "metadata": {},
   "outputs": [
    {
     "name": "stderr",
     "output_type": "stream",
     "text": [
      "100%|██████████| 808731/808731 [00:40<00:00, 20187.79it/s]\n",
      "100%|██████████| 101093/101093 [00:04<00:00, 20473.30it/s]\n",
      "100%|██████████| 101092/101092 [00:04<00:00, 21340.94it/s]\n"
     ]
    }
   ],
   "source": [
    "queries_t = []\n",
    "for i in tqdm(range(0,len(train))):\n",
    "    queries_t.append(train[i]['query'])\n",
    "\n",
    "for i in tqdm(range(0,len(valid))):\n",
    "    queries_t.append(valid[i]['query'])\n",
    "\n",
    "for i in tqdm(range(0,len(test))):\n",
    "    queries_t.append(test[i]['query'])\n",
    "\n",
    "queries_t = list(set(queries_t))\n",
    "queries_t = ' '.join(queries_t)\n",
    "queries_words = tokenize(queries_t, {})"
   ]
  },
  {
   "cell_type": "code",
   "execution_count": 17,
   "metadata": {},
   "outputs": [],
   "source": [
    "#dump all words to a file\n",
    "import json\n",
    "json.dump(list(set(queries_words)), open('queries_words.json', 'w'))"
   ]
  },
  {
   "cell_type": "code",
   "execution_count": 18,
   "metadata": {},
   "outputs": [
    {
     "data": {
      "text/plain": [
       "152407"
      ]
     },
     "execution_count": 18,
     "metadata": {},
     "output_type": "execute_result"
    }
   ],
   "source": [
    "len(set(queries_words))"
   ]
  },
  {
   "cell_type": "code",
   "execution_count": 19,
   "metadata": {},
   "outputs": [
    {
     "name": "stderr",
     "output_type": "stream",
     "text": [
      "  0%|          | 0/808731 [00:00<?, ?it/s]"
     ]
    },
    {
     "name": "stderr",
     "output_type": "stream",
     "text": [
      "100%|██████████| 808731/808731 [07:11<00:00, 1873.66it/s]\n",
      "100%|██████████| 101093/101093 [00:53<00:00, 1882.03it/s]\n",
      "100%|██████████| 101092/101092 [00:51<00:00, 1956.04it/s]\n"
     ]
    }
   ],
   "source": [
    "passages_words = []\n",
    "for i in tqdm(range(0,len(train))):\n",
    "    passages = ' '.join((train[i]['passages']['passage_text']))\n",
    "    w = tokenize(passages, {})\n",
    "    passages_words.extend(w)\n",
    "\n",
    "for i in tqdm(range(0,len(valid))):\n",
    "    passages = ' '.join((train[i]['passages']['passage_text']))\n",
    "    w = tokenize(passages, {})\n",
    "    passages_words.extend(w)\n",
    "\n",
    "for i in tqdm(range(0,len(test))):\n",
    "    passages = ' '.join((train[i]['passages']['passage_text']))\n",
    "    w = tokenize(passages, {})\n",
    "    passages_words.extend(w)"
   ]
  },
  {
   "cell_type": "code",
   "execution_count": 20,
   "metadata": {},
   "outputs": [],
   "source": [
    "#dump all words to a file\n",
    "json.dump(list(set(passages_words)), open('passages_words.json', 'w'))"
   ]
  },
  {
   "cell_type": "code",
   "execution_count": 2,
   "metadata": {},
   "outputs": [],
   "source": [
    "import json\n",
    "\n",
    "qwords = json.load(open('queries_words.json'))"
   ]
  },
  {
   "cell_type": "code",
   "execution_count": 3,
   "metadata": {},
   "outputs": [],
   "source": [
    "pwords = json.load(open('passages_words.json'))"
   ]
  },
  {
   "cell_type": "code",
   "execution_count": 4,
   "metadata": {},
   "outputs": [
    {
     "data": {
      "text/plain": [
       "1134700"
      ]
     },
     "execution_count": 4,
     "metadata": {},
     "output_type": "execute_result"
    }
   ],
   "source": [
    "len(pwords)"
   ]
  },
  {
   "cell_type": "code",
   "execution_count": 5,
   "metadata": {},
   "outputs": [],
   "source": [
    "all_words = list(set(qwords + pwords))"
   ]
  },
  {
   "cell_type": "code",
   "execution_count": 6,
   "metadata": {},
   "outputs": [
    {
     "name": "stdout",
     "output_type": "stream",
     "text": [
      "1149755\n"
     ]
    }
   ],
   "source": [
    "print(len(all_words))"
   ]
  },
  {
   "cell_type": "code",
   "execution_count": 7,
   "metadata": {},
   "outputs": [],
   "source": [
    "import gensim.downloader as api\n",
    "\n",
    "model = api.load(\"word2vec-google-news-300\")"
   ]
  },
  {
   "cell_type": "code",
   "execution_count": 8,
   "metadata": {},
   "outputs": [],
   "source": [
    "word_to_ids = {v: i+1 for i,v in enumerate(all_words)}\n",
    "word_to_ids['<unk>'] = 0"
   ]
  },
  {
   "cell_type": "code",
   "execution_count": 9,
   "metadata": {},
   "outputs": [],
   "source": [
    "idx_to_word = {v: k for k, v in word_to_ids.items()}"
   ]
  },
  {
   "cell_type": "code",
   "execution_count": 10,
   "metadata": {},
   "outputs": [],
   "source": [
    "import numpy as np\n",
    "embeds = {}\n",
    "for v, ind in word_to_ids.items():\n",
    "    if v in model:\n",
    "        embeds[ind] = model[v]\n",
    "    else:\n",
    "        embeds[ind] = np.zeros(300)"
   ]
  },
  {
   "cell_type": "code",
   "execution_count": 11,
   "metadata": {},
   "outputs": [
    {
     "data": {
      "text/plain": [
       "['idx_to_word.pkl']"
      ]
     },
     "execution_count": 11,
     "metadata": {},
     "output_type": "execute_result"
    }
   ],
   "source": [
    "#save all\n",
    "import joblib\n",
    "\n",
    "joblib.dump(embeds, 'embeds.pkl')\n",
    "joblib.dump(word_to_ids, 'word_to_ids.pkl')\n",
    "joblib.dump(idx_to_word, 'idx_to_word.pkl')"
   ]
  }
 ],
 "metadata": {
  "kernelspec": {
   "display_name": "mlx_course",
   "language": "python",
   "name": "python3"
  },
  "language_info": {
   "codemirror_mode": {
    "name": "ipython",
    "version": 3
   },
   "file_extension": ".py",
   "mimetype": "text/x-python",
   "name": "python",
   "nbconvert_exporter": "python",
   "pygments_lexer": "ipython3",
   "version": "3.11.11"
  }
 },
 "nbformat": 4,
 "nbformat_minor": 2
}
