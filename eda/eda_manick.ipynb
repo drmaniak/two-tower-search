{
 "cells": [
  {
   "cell_type": "markdown",
   "id": "7de1d9fa-e352-4c93-9781-01196191e7c1",
   "metadata": {},
   "source": [
    "# Dataset Preparation"
   ]
  },
  {
   "cell_type": "code",
   "execution_count": 1,
   "id": "55733160-eb46-48f6-ab30-198768f764cc",
   "metadata": {},
   "outputs": [
    {
     "ename": "ImportError",
     "evalue": "cannot import name 'Dataloader' from 'torch.utils.data' (/home/fullldiesel/miniconda3/envs/mlx2/lib/python3.12/site-packages/torch/utils/data/__init__.py)",
     "output_type": "error",
     "traceback": [
      "\u001b[0;31m---------------------------------------------------------------------------\u001b[0m",
      "\u001b[0;31mImportError\u001b[0m                               Traceback (most recent call last)",
      "Cell \u001b[0;32mIn[1], line 9\u001b[0m\n\u001b[1;32m      7\u001b[0m \u001b[38;5;28;01mimport\u001b[39;00m\u001b[38;5;250m \u001b[39m\u001b[38;5;21;01mtorch\u001b[39;00m\n\u001b[1;32m      8\u001b[0m \u001b[38;5;28;01mimport\u001b[39;00m\u001b[38;5;250m \u001b[39m\u001b[38;5;21;01mtorch\u001b[39;00m\u001b[38;5;21;01m.\u001b[39;00m\u001b[38;5;21;01mnn\u001b[39;00m\u001b[38;5;250m \u001b[39m\u001b[38;5;28;01mas\u001b[39;00m\u001b[38;5;250m \u001b[39m\u001b[38;5;21;01mnn\u001b[39;00m\n\u001b[0;32m----> 9\u001b[0m \u001b[38;5;28;01mfrom\u001b[39;00m\u001b[38;5;250m \u001b[39m\u001b[38;5;21;01mtorch\u001b[39;00m\u001b[38;5;21;01m.\u001b[39;00m\u001b[38;5;21;01mutils\u001b[39;00m\u001b[38;5;21;01m.\u001b[39;00m\u001b[38;5;21;01mdata\u001b[39;00m\u001b[38;5;250m \u001b[39m\u001b[38;5;28;01mimport\u001b[39;00m Dataset, Dataloader\n",
      "\u001b[0;31mImportError\u001b[0m: cannot import name 'Dataloader' from 'torch.utils.data' (/home/fullldiesel/miniconda3/envs/mlx2/lib/python3.12/site-packages/torch/utils/data/__init__.py)"
     ]
    }
   ],
   "source": [
    "from pathlib import Path\n",
    "\n",
    "import numpy as np\n",
    "import pandas as pd\n",
    "import gensim.downloader as api\n",
    "\n",
    "import torch\n",
    "import torch.nn as nn\n",
    "from torch.utils.data import Dataset, Dataloader"
   ]
  },
  {
   "cell_type": "code",
   "execution_count": null,
   "id": "0039d112-fe44-47ec-97e0-58f9747df67b",
   "metadata": {},
   "outputs": [],
   "source": [
    "from dataset import TwoTowerDataset\n",
    "from vocabulary import Vocabulary"
   ]
  },
  {
   "cell_type": "code",
   "execution_count": null,
   "id": "312960bf-ea8e-4961-aaad-536ba2aee750",
   "metadata": {},
   "outputs": [],
   "source": [
    "!ls ../vocab"
   ]
  },
  {
   "cell_type": "code",
   "execution_count": null,
   "id": "648a1342-f4c6-4e19-9e5f-589490c75d61",
   "metadata": {},
   "outputs": [],
   "source": [
    "model = api.load(\"word2vec-google-news-300\")"
   ]
  },
  {
   "cell_type": "code",
   "execution_count": null,
   "id": "b0751fa1-8a43-4043-8722-2051ffd1d507",
   "metadata": {},
   "outputs": [],
   "source": [
    "model.vector_size"
   ]
  },
  {
   "cell_type": "code",
   "execution_count": null,
   "id": "2baef7f9-7a68-4f71-90f3-c1a99c4f429f",
   "metadata": {},
   "outputs": [],
   "source": [
    "pickle_path_data = Path(\"../vocab/datavocab_15k.pkl\")"
   ]
  },
  {
   "cell_type": "code",
   "execution_count": null,
   "id": "6e0ab4fe-e044-4ade-9c6f-62e164308e56",
   "metadata": {},
   "outputs": [],
   "source": [
    "dataset = TwoTowerDataset(pickle_path_data, max_len_query=20, max_len_docs=75)"
   ]
  },
  {
   "cell_type": "code",
   "execution_count": null,
   "id": "db4e4864-f77a-4673-95ee-65acfd2568c2",
   "metadata": {},
   "outputs": [],
   "source": [
    "dataset.token_dict[\"query\"][-15]"
   ]
  },
  {
   "cell_type": "code",
   "execution_count": null,
   "id": "9f73bf61-ea5f-40dd-8730-9ee1d9b4c13a",
   "metadata": {
    "scrolled": true
   },
   "outputs": [],
   "source": [
    "dataset.vocab.word2idx"
   ]
  }
 ],
 "metadata": {
  "kernelspec": {
   "display_name": "Python 3 (ipykernel)",
   "language": "python",
   "name": "python3"
  },
  "language_info": {
   "codemirror_mode": {
    "name": "ipython",
    "version": 3
   },
   "file_extension": ".py",
   "mimetype": "text/x-python",
   "name": "python",
   "nbconvert_exporter": "python",
   "pygments_lexer": "ipython3",
   "version": "3.12.8"
  }
 },
 "nbformat": 4,
 "nbformat_minor": 5
}
