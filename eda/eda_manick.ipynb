{
 "cells": [
  {
   "cell_type": "code",
   "execution_count": 7,
   "id": "34524f47-8789-434f-a4b6-b0fc0b7d3bfa",
   "metadata": {},
   "outputs": [],
   "source": [
    "import utils as u\n",
    "import constants"
   ]
  },
  {
   "cell_type": "code",
   "execution_count": null,
   "id": "ba7dc162-8717-4caa-af82-e625e5fc0f11",
   "metadata": {},
   "outputs": [],
   "source": []
  },
  {
   "cell_type": "code",
   "execution_count": 2,
   "id": "6afa0cde-f349-4e8c-8437-83fed8d8819f",
   "metadata": {},
   "outputs": [],
   "source": [
    "from nltk.stem import PorterStemmer"
   ]
  },
  {
   "cell_type": "code",
   "execution_count": 8,
   "id": "736b7245-5a76-486b-b2be-16b27192cb58",
   "metadata": {},
   "outputs": [],
   "source": [
    "ps = PorterStemmer()\n",
    "pmap = constants.punctuation_map"
   ]
  },
  {
   "cell_type": "code",
   "execution_count": 11,
   "id": "bca8ad63-5424-45c3-9f35-24acf8f041db",
   "metadata": {},
   "outputs": [],
   "source": [
    "example_sentence = \"I went to the market today and I haven't left yet found a dog's toy.\""
   ]
  },
  {
   "cell_type": "code",
   "execution_count": 16,
   "id": "91e91822-a313-4756-ab2b-d0cb40397eb1",
   "metadata": {},
   "outputs": [
    {
     "data": {
      "text/plain": [
       "['went', 'market', 'today', 'left', 'yet', 'found', 'dog', 'toy']"
      ]
     },
     "execution_count": 16,
     "metadata": {},
     "output_type": "execute_result"
    }
   ],
   "source": [
    "u.tokenize(example_sentence, pmap, stemmer=ps, junk_punctuations=true)"
   ]
  },
  {
   "cell_type": "code",
   "execution_count": 17,
   "id": "0893b243-2529-4b07-a304-f02ea23ca888",
   "metadata": {},
   "outputs": [],
   "source": [
    "import pandas as pd"
   ]
  },
  {
   "cell_type": "code",
   "execution_count": 18,
   "id": "8803ce7f-ba6d-40ad-b320-a6a111a725d8",
   "metadata": {},
   "outputs": [
    {
     "name": "stdout",
     "output_type": "stream",
     "text": [
      "sample_100k.parquet  sample_1k.parquet\ttrain_triples_sample.json\n",
      "sample_10k.parquet   sample_5k.parquet\n"
     ]
    }
   ],
   "source": [
    "!ls ../data"
   ]
  },
  {
   "cell_type": "code",
   "execution_count": 20,
   "id": "452a608f-56ca-4a3f-8677-dd3ec7cc5e1c",
   "metadata": {},
   "outputs": [],
   "source": [
    "df = pd.read_parquet(\"../data/sample_10k.parquet\")"
   ]
  },
  {
   "cell_type": "code",
   "execution_count": 22,
   "id": "f6650d6e-e10b-4c10-9f0a-153c4dcd1916",
   "metadata": {},
   "outputs": [
    {
     "data": {
      "text/plain": [
       "(99726, 3)"
      ]
     },
     "execution_count": 22,
     "metadata": {},
     "output_type": "execute_result"
    }
   ],
   "source": [
    "n"
   ]
  },
  {
   "cell_type": "code",
   "execution_count": 21,
   "id": "9072ad8f-3697-4fee-a6ed-6d12f655dea0",
   "metadata": {},
   "outputs": [
    {
     "data": {
      "text/plain": [
       "9999"
      ]
     },
     "execution_count": 21,
     "metadata": {},
     "output_type": "execute_result"
    }
   ],
   "source": [
    "df[\"query\"].nunique()\n"
   ]
  }
 ],
 "metadata": {
  "kernelspec": {
   "display_name": "Python 3 (ipykernel)",
   "language": "python",
   "name": "python3"
  },
  "language_info": {
   "codemirror_mode": {
    "name": "ipython",
    "version": 3
   },
   "file_extension": ".py",
   "mimetype": "text/x-python",
   "name": "python",
   "nbconvert_exporter": "python",
   "pygments_lexer": "ipython3",
   "version": "3.13.1"
  }
 },
 "nbformat": 4,
 "nbformat_minor": 5
}
