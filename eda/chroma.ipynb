{
 "cells": [
  {
   "cell_type": "code",
   "execution_count": 1,
   "metadata": {},
   "outputs": [
    {
     "name": "stdout",
     "output_type": "stream",
     "text": [
      "Note: you may need to restart the kernel to use updated packages.\n"
     ]
    }
   ],
   "source": [
    "%pip install -qU \"langchain-chroma>=0.1.2\""
   ]
  },
  {
   "cell_type": "markdown",
   "metadata": {},
   "source": [
    "https://python.langchain.com/docs/integrations/vectorstores/chroma/"
   ]
  },
  {
   "cell_type": "code",
   "execution_count": 2,
   "metadata": {},
   "outputs": [
    {
     "name": "stderr",
     "output_type": "stream",
     "text": [
      "[nltk_data] Downloading package stopwords to\n",
      "[nltk_data]     /Users/yuliagoryachev/nltk_data...\n",
      "[nltk_data]   Package stopwords is already up-to-date!\n",
      "[nltk_data] Downloading package punkt_tab to\n",
      "[nltk_data]     /Users/yuliagoryachev/nltk_data...\n",
      "[nltk_data]   Package punkt_tab is already up-to-date!\n"
     ]
    }
   ],
   "source": [
    "from utils import tokenize\n",
    "from nltk.stem import PorterStemmer\n",
    "import joblib\n",
    "import constants\n",
    "import numpy as np\n",
    "from typing import *\n",
    "from langchain_chroma import Chroma\n",
    "import gensim.downloader as api\n",
    "from tqdm import tqdm\n",
    "\n"
   ]
  },
  {
   "cell_type": "code",
   "execution_count": 3,
   "metadata": {},
   "outputs": [],
   "source": [
    "#simple embeddings function\n",
    "model = api.load(\"word2vec-google-news-300\")\n",
    "punctuation_map = constants.punctuation_map\n",
    "model_size = 300"
   ]
  },
  {
   "cell_type": "code",
   "execution_count": 4,
   "metadata": {},
   "outputs": [],
   "source": [
    "class Embeddings:\n",
    "    def __init__(self):\n",
    "        self.punctuation_map = constants.punctuation_map\n",
    "        self.model_size = 300\n",
    "\n",
    "    def embed_documents(self, texts: List[str]) -> list:\n",
    "        print('texts: ', texts)\n",
    "        res = []\n",
    "        for text in tqdm(texts):\n",
    "            tokenized = tokenize(text, punctuation_map=punctuation_map, stemmer=PorterStemmer(), junk_punctuations=True)\n",
    "            res.append(self.average_pooling(tokenized))\n",
    "        return res\n",
    "    \n",
    "    def embed_query(self, query: str) -> list:\n",
    "        tokenized = tokenize(query, punctuation_map=punctuation_map, stemmer=PorterStemmer(), junk_punctuations=True)\n",
    "        return self.average_pooling(tokenized)\n",
    "\n",
    "    def average_pooling(self, tokens: List[str]):\n",
    "        embed = np.zeros((1, self.model_size))\n",
    "        size = len(tokens)\n",
    "        for t in tokens:\n",
    "            if t in model:\n",
    "                embed+=model[t]\n",
    "        res = embed/max(size, 1)\n",
    "        return res.tolist()[0]"
   ]
  },
  {
   "cell_type": "code",
   "execution_count": 5,
   "metadata": {},
   "outputs": [],
   "source": [
    "emb = Embeddings()"
   ]
  },
  {
   "cell_type": "code",
   "execution_count": 6,
   "metadata": {},
   "outputs": [],
   "source": [
    "# emb.embed_documents([\"hello world\"])"
   ]
  },
  {
   "cell_type": "code",
   "execution_count": 7,
   "metadata": {},
   "outputs": [],
   "source": [
    "\n",
    "vector_store = Chroma(\n",
    "    collection_name=\"example_collection\",\n",
    "    embedding_function=emb,\n",
    "    persist_directory=\"./chroma_langchain_db\",  # Where to save data locally, remove if not necessary\n",
    ")"
   ]
  },
  {
   "cell_type": "code",
   "execution_count": 8,
   "metadata": {},
   "outputs": [
    {
     "name": "stdout",
     "output_type": "stream",
     "text": [
      "texts:  ['I had chocolate chip pancakes and scrambled eggs for breakfast this morning.', 'The weather forecast for tomorrow is cloudy and overcast, with a high of 62 degrees.', 'Building an exciting new project with LangChain - come check it out!', 'Robbers broke into the city bank and stole $1 million in cash.', \"Wow! That was an amazing movie. I can't wait to see it again.\"]\n"
     ]
    },
    {
     "name": "stderr",
     "output_type": "stream",
     "text": [
      "100%|██████████| 5/5 [00:00<00:00, 4314.24it/s]\n"
     ]
    },
    {
     "data": {
      "text/plain": [
       "['d1b763a6-d6ca-4978-8920-d7a2dd339b9c',\n",
       " 'eed9cb66-022e-47f8-817c-9cc19b685855',\n",
       " '62679535-6e32-4046-a4a9-35d1f2d763c7',\n",
       " 'e9d67e6d-57fa-442d-a81d-e53eae6d9edc',\n",
       " 'e318d458-0a72-45c7-819b-48a385a2ba4b']"
      ]
     },
     "execution_count": 8,
     "metadata": {},
     "output_type": "execute_result"
    }
   ],
   "source": [
    "from uuid import uuid4\n",
    "from langchain_core.documents import Document\n",
    "\n",
    "document_1 = Document(\n",
    "    page_content=\"I had chocolate chip pancakes and scrambled eggs for breakfast this morning.\",\n",
    "    metadata={\"source\": \"search\"},\n",
    "    id=1,\n",
    ")\n",
    "\n",
    "document_2 = Document(\n",
    "    page_content=\"The weather forecast for tomorrow is cloudy and overcast, with a high of 62 degrees.\",\n",
    "    metadata={\"source\": \"search\"},\n",
    "    id=2,\n",
    ")\n",
    "\n",
    "document_3 = Document(\n",
    "    page_content=\"Building an exciting new project with LangChain - come check it out!\",\n",
    "    metadata={\"source\": \"search\"},\n",
    "    id=3,\n",
    ")\n",
    "\n",
    "document_4 = Document(\n",
    "    page_content=\"Robbers broke into the city bank and stole $1 million in cash.\",\n",
    "    metadata={\"source\": \"search\"},\n",
    "    id=4,\n",
    ")\n",
    "\n",
    "document_5 = Document(\n",
    "    page_content=\"Wow! That was an amazing movie. I can't wait to see it again.\",\n",
    "    metadata={\"source\": \"search\"},\n",
    "    id=5,\n",
    ")\n",
    "\n",
    "\n",
    "documents = [\n",
    "    document_1,\n",
    "    document_2,\n",
    "    document_3,\n",
    "    document_4,\n",
    "    document_5,\n",
    "]\n",
    "uuids = [str(uuid4()) for _ in range(len(documents))]\n",
    "\n",
    "vector_store.add_documents(documents=documents, ids=uuids)"
   ]
  },
  {
   "cell_type": "code",
   "execution_count": 9,
   "metadata": {},
   "outputs": [
    {
     "name": "stdout",
     "output_type": "stream",
     "text": [
      "* I had chocolate chip pancakes and scrambled eggs for breakfast this morning. [{'source': 'search'}]\n",
      "* The weather forecast for tomorrow is cloudy and overcast, with a high of 62 degrees. [{'source': 'search'}]\n"
     ]
    }
   ],
   "source": [
    "results = vector_store.similarity_search(\n",
    "    \"What did I have for breakfast this morning?\",\n",
    "    k=2,\n",
    "    filter={\"source\": \"search\"},\n",
    ")\n",
    "for res in results:\n",
    "    print(f\"* {res.page_content} [{res.metadata}]\")\n",
    "\n"
   ]
  }
 ],
 "metadata": {
  "kernelspec": {
   "display_name": "mlx_course",
   "language": "python",
   "name": "python3"
  },
  "language_info": {
   "codemirror_mode": {
    "name": "ipython",
    "version": 3
   },
   "file_extension": ".py",
   "mimetype": "text/x-python",
   "name": "python",
   "nbconvert_exporter": "python",
   "pygments_lexer": "ipython3",
   "version": "3.11.11"
  }
 },
 "nbformat": 4,
 "nbformat_minor": 2
}
