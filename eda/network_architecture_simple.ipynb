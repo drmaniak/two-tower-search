{
 "cells": [
  {
   "cell_type": "code",
   "execution_count": 1,
   "metadata": {},
   "outputs": [],
   "source": [
    "import torch\n",
    "import torch.nn as nn\n",
    "from sklearn.model_selection import train_test_split\n",
    "import torch.nn.functional as F"
   ]
  },
  {
   "cell_type": "code",
   "execution_count": 2,
   "metadata": {},
   "outputs": [
    {
     "data": {
      "text/plain": [
       "<torch._C.Generator at 0x10e197b10>"
      ]
     },
     "execution_count": 2,
     "metadata": {},
     "output_type": "execute_result"
    }
   ],
   "source": [
    "torch.manual_seed(42)"
   ]
  },
  {
   "cell_type": "markdown",
   "metadata": {},
   "source": [
    "-----"
   ]
  },
  {
   "cell_type": "code",
   "execution_count": 2,
   "metadata": {},
   "outputs": [],
   "source": [
    "#load the embedding matrix\n",
    "import joblib\n",
    "embedding_dict = joblib.load('embeds.pkl')\n",
    "\n",
    "word_to_id = joblib.load('word_to_ids.pkl')\n",
    "id_to_word = joblib.load('idx_to_word.pkl')"
   ]
  },
  {
   "cell_type": "code",
   "execution_count": 3,
   "metadata": {},
   "outputs": [
    {
     "name": "stderr",
     "output_type": "stream",
     "text": [
      "/var/folders/7k/nmbh9fxj4dsbx6d3jx2k1lvm0000gn/T/ipykernel_96117/1542511212.py:2: UserWarning: Creating a tensor from a list of numpy.ndarrays is extremely slow. Please consider converting the list to a single numpy.ndarray with numpy.array() before converting to a tensor. (Triggered internally at /Users/runner/work/pytorch/pytorch/pytorch/torch/csrc/utils/tensor_new.cpp:281.)\n",
      "  embeddings_tensor = torch.tensor([i for i in embedding_dict.values()], dtype=torch.float32)\n"
     ]
    }
   ],
   "source": [
    "embed_dim = 300\n",
    "embeddings_tensor = torch.tensor([i for i in embedding_dict.values()], dtype=torch.float32)"
   ]
  },
  {
   "cell_type": "code",
   "execution_count": 4,
   "metadata": {},
   "outputs": [
    {
     "data": {
      "text/plain": [
       "torch.Size([1244025, 300])"
      ]
     },
     "execution_count": 4,
     "metadata": {},
     "output_type": "execute_result"
    }
   ],
   "source": [
    "embeddings_tensor.shape"
   ]
  },
  {
   "cell_type": "code",
   "execution_count": 5,
   "metadata": {},
   "outputs": [],
   "source": [
    "#prepare the data for the query tower work on the query triplets\n",
    "import json\n",
    "with open('/Users/yuliagoryachev/Documents/mlx/mlx_week2/two-tower-search/data/train_triples_sample.json') as f:\n",
    "    data = json.load(f)\n",
    "\n",
    "with open('/Users/yuliagoryachev/Documents/mlx/mlx_week2/two-tower-search/eda/train_triples_v1.1.json') as f:\n",
    "    train = json.load(f)\n",
    "\n",
    "with open('/Users/yuliagoryachev/Documents/mlx/mlx_week2/two-tower-search/eda/valid_triples_v1.1.json') as f:\n",
    "    val = json.load(f)"
   ]
  },
  {
   "cell_type": "code",
   "execution_count": 6,
   "metadata": {},
   "outputs": [
    {
     "name": "stdout",
     "output_type": "stream",
     "text": [
      "12.0\n",
      "42.8\n"
     ]
    }
   ],
   "source": [
    "average_sentence_length = sum(len(item['query'].split()) for item in data) / len(data)\n",
    "print(average_sentence_length)#this before stemming and removing stopwords\n",
    "average_context_length = sum(len(item['positive'].split()) for item in data) / len(data)\n",
    "print(average_context_length)#this before stemming and removing stopwords"
   ]
  },
  {
   "cell_type": "code",
   "execution_count": 7,
   "metadata": {},
   "outputs": [
    {
     "name": "stderr",
     "output_type": "stream",
     "text": [
      "[nltk_data] Downloading package stopwords to\n",
      "[nltk_data]     /Users/yuliagoryachev/nltk_data...\n",
      "[nltk_data]   Package stopwords is already up-to-date!\n",
      "[nltk_data] Downloading package punkt_tab to\n",
      "[nltk_data]     /Users/yuliagoryachev/nltk_data...\n",
      "[nltk_data]   Package punkt_tab is already up-to-date!\n"
     ]
    }
   ],
   "source": [
    "from tqdm import tqdm\n",
    "from utils import tokenize\n",
    "import pandas as pd"
   ]
  },
  {
   "cell_type": "code",
   "execution_count": 8,
   "metadata": {},
   "outputs": [],
   "source": [
    "df_val = pd.DataFrame(val)\n",
    "df_train = pd.DataFrame(train)\n",
    "df_tot = pd.concat([df_val, df_train])\n",
    "queries = df_tot['query'].unique()\n",
    "train_q, val_q = train_test_split(queries, test_size=0.2, random_state=42)\n",
    "\n",
    "train = df_tot[df_tot['query'].isin(train_q)]\n",
    "val = df_tot[df_tot['query'].isin(val_q)]\n",
    "\n",
    "train = train[['query', 'positive', 'negative']]\n",
    "val = val[['query', 'positive', 'negative']]\n",
    "train = train.to_dict('records')\n",
    "val = val.to_dict('records')"
   ]
  },
  {
   "cell_type": "code",
   "execution_count": 9,
   "metadata": {},
   "outputs": [
    {
     "name": "stdout",
     "output_type": "stream",
     "text": [
      "606993 151560\n"
     ]
    }
   ],
   "source": [
    "print(len(train), len(val))"
   ]
  },
  {
   "cell_type": "code",
   "execution_count": 10,
   "metadata": {},
   "outputs": [],
   "source": [
    "#data preparartion"
   ]
  },
  {
   "cell_type": "code",
   "execution_count": 11,
   "metadata": {},
   "outputs": [],
   "source": [
    "#convert to indices using the word_to_id dictionary\n",
    "import joblib\n",
    "word_to_id = joblib.load('/Users/yuliagoryachev/Documents/mlx/mlx_week2/two-tower-search/eda/word_to_ids.pkl')"
   ]
  },
  {
   "cell_type": "code",
   "execution_count": 15,
   "metadata": {},
   "outputs": [],
   "source": [
    "SENT_LEN = 12\n",
    "CONTEXT_LEN = 50\n",
    "from nltk.stem import PorterStemmer\n",
    "import constants\n",
    "\n",
    "punctuation_map = constants.punctuation_map"
   ]
  },
  {
   "cell_type": "code",
   "execution_count": 17,
   "metadata": {},
   "outputs": [
    {
     "name": "stdout",
     "output_type": "stream",
     "text": [
      "walgreens store sales average\n",
      "walgreen\n",
      "981316\n",
      "store\n",
      "730086\n",
      "sale\n",
      "345464\n",
      "averag\n",
      "327053\n",
      "========\n",
      "The average Walgreens salary ranges from approximately $15,000 per year for Customer Service Associate / Cashier to $179,900 per year for District Manager. Average Walgreens hourly pay ranges from approximately $7.35 per hour for Laboratory Technician to $68.90 per hour for Pharmacy Manager. Salary information comes from 7,810 data points collected directly from employees, users, and jobs on Indeed.\n",
      "averag\n",
      "327053\n",
      "walgreen\n",
      "981316\n",
      "salari\n",
      "689663\n",
      "rang\n",
      "749018\n",
      "approxim\n",
      "97312\n",
      "per\n",
      "1182124\n",
      "year\n",
      "254939\n",
      "custom\n",
      "366851\n",
      "servic\n",
      "422897\n",
      "associ\n",
      "419353\n",
      "cashier\n",
      "725901\n",
      "per\n",
      "1182124\n",
      "year\n",
      "254939\n",
      "district\n",
      "137275\n",
      "manag\n",
      "1200316\n",
      "averag\n",
      "327053\n",
      "walgreen\n",
      "981316\n",
      "hourli\n",
      "1216105\n",
      "pay\n",
      "719309\n",
      "rang\n",
      "749018\n",
      "approxim\n",
      "97312\n",
      "per\n",
      "1182124\n",
      "hour\n",
      "1113327\n",
      "laboratori\n",
      "1106822\n",
      "technician\n",
      "1009062\n",
      "per\n",
      "1182124\n",
      "hour\n",
      "1113327\n",
      "pharmaci\n",
      "1130532\n",
      "manag\n",
      "1200316\n",
      "salari\n",
      "689663\n",
      "inform\n",
      "892194\n",
      "come\n",
      "33007\n",
      "data\n",
      "987252\n",
      "point\n",
      "442838\n",
      "collect\n",
      "837062\n",
      "directli\n",
      "847128\n",
      "employe\n",
      "573446\n",
      "user\n",
      "1044451\n",
      "job\n",
      "437198\n",
      "inde\n",
      "449956\n",
      "========\n",
      "“Volatile organic compound” or VOC is the name given to a substance that contains carbon and that evaporates (becomes a vapor) or “off-gases” at room temperature. Some examples of VOCs include benzene, methylene chloride, hexane, toluene, trichloroethane, styrene, heptane, and perchloroethylene. \n",
      "volatil\n",
      "344990\n",
      "organ\n",
      "1176490\n",
      "compound\n",
      "372780\n",
      "voc\n",
      "903372\n",
      "name\n",
      "393570\n",
      "given\n",
      "756967\n",
      "substanc\n",
      "943830\n",
      "contain\n",
      "155691\n",
      "carbon\n",
      "492843\n",
      "evapor\n",
      "474318\n",
      "becom\n",
      "147340\n",
      "vapor\n",
      "568358\n",
      "gase\n",
      "720896\n",
      "room\n",
      "998157\n",
      "temperatur\n",
      "414719\n",
      "exampl\n",
      "309751\n",
      "voc\n",
      "903372\n",
      "includ\n",
      "266098\n",
      "benzen\n",
      "58955\n",
      "methylen\n",
      "1204416\n",
      "chlorid\n",
      "989157\n",
      "hexan\n",
      "475232\n",
      "toluen\n",
      "636519\n",
      "trichloroethan\n",
      "585639\n",
      "styren\n",
      "129367\n",
      "heptan\n",
      "292844\n",
      "perchloroethylen\n",
      "266592\n"
     ]
    }
   ],
   "source": [
    "import numpy as np\n",
    "\n",
    "\n",
    "query = train[0]['query']\n",
    "print(query)\n",
    "query_embed = np.zeros((1, 300))\n",
    "count_q = 0\n",
    "for i in tokenize(query, punctuation_map=punctuation_map, stemmer=PorterStemmer(), junk_punctuations=True):\n",
    "    print(i)\n",
    "    token = word_to_id.get(i, word_to_id['<unk>'])\n",
    "    query_embed+=embedding_dict.get(token, np.zeros(300))\n",
    "    print(token)\n",
    "\n",
    "query_embed = query_embed/max(count_q,1)\n",
    "\n",
    "print('========')\n",
    "#embed a positive context\n",
    "positive_embed = np.zeros((1, 300))\n",
    "count_p = 0\n",
    "positive = train[0]['positive']\n",
    "print(positive)\n",
    "for i in tokenize(positive, punctuation_map=punctuation_map, stemmer=PorterStemmer(), junk_punctuations=True):\n",
    "    print(i)\n",
    "    token = word_to_id.get(i, word_to_id['<unk>'])\n",
    "    positive_embed+=embedding_dict.get(token, np.zeros(300))\n",
    "    print(token)\n",
    "\n",
    "positive_embed = positive_embed/max(count_p,1)\n",
    "\n",
    "print('========')\n",
    "#embed a negative context\n",
    "negative_embed = np.zeros((1, 300))\n",
    "count_p = 0\n",
    "negative = train[0]['negative']\n",
    "print(negative)\n",
    "for i in tokenize(negative, punctuation_map=punctuation_map, stemmer=PorterStemmer(), junk_punctuations=True):\n",
    "    print(i)\n",
    "    token = word_to_id.get(i, word_to_id['<unk>'])\n",
    "    negative_embed+=embedding_dict.get(token, np.zeros(300))\n",
    "    print(token)\n",
    "\n",
    "negative_embed = negative_embed/max(count_p,1)"
   ]
  },
  {
   "cell_type": "code",
   "execution_count": 18,
   "metadata": {},
   "outputs": [
    {
     "name": "stdout",
     "output_type": "stream",
     "text": [
      "[[0.3866413]]\n",
      "[[0.20617133]]\n"
     ]
    }
   ],
   "source": [
    "#cosine similarity\n",
    "from sklearn.metrics.pairwise import cosine_similarity\n",
    "print(cosine_similarity(query_embed, positive_embed))\n",
    "print(cosine_similarity(query_embed, negative_embed))"
   ]
  },
  {
   "cell_type": "code",
   "execution_count": 19,
   "metadata": {},
   "outputs": [],
   "source": [
    "from typing import List\n",
    "import numpy as np"
   ]
  },
  {
   "cell_type": "code",
   "execution_count": 28,
   "metadata": {},
   "outputs": [
    {
     "name": "stdout",
     "output_type": "stream",
     "text": [
      "tokenize\n"
     ]
    },
    {
     "name": "stderr",
     "output_type": "stream",
     "text": [
      "100%|██████████| 2000/2000 [00:00<00:00, 27950.10it/s]\n",
      "100%|██████████| 2000/2000 [00:00<00:00, 3392.74it/s]\n",
      "100%|██████████| 2000/2000 [00:00<00:00, 3370.73it/s]\n"
     ]
    },
    {
     "name": "stdout",
     "output_type": "stream",
     "text": [
      "average pooling\n"
     ]
    },
    {
     "name": "stderr",
     "output_type": "stream",
     "text": [
      "100%|██████████| 2000/2000 [00:00<00:00, 40298.27it/s]\n",
      "100%|██████████| 2000/2000 [00:00<00:00, 8029.14it/s]\n",
      "100%|██████████| 2000/2000 [00:00<00:00, 10496.58it/s]\n"
     ]
    },
    {
     "name": "stdout",
     "output_type": "stream",
     "text": [
      "tokenize\n"
     ]
    },
    {
     "name": "stderr",
     "output_type": "stream",
     "text": [
      "100%|██████████| 2000/2000 [00:00<00:00, 26306.80it/s]\n",
      "100%|██████████| 2000/2000 [00:00<00:00, 3204.05it/s]\n",
      "100%|██████████| 2000/2000 [00:00<00:00, 3421.29it/s]\n"
     ]
    },
    {
     "name": "stdout",
     "output_type": "stream",
     "text": [
      "average pooling\n"
     ]
    },
    {
     "name": "stderr",
     "output_type": "stream",
     "text": [
      "100%|██████████| 2000/2000 [00:00<00:00, 183554.15it/s]\n",
      "100%|██████████| 2000/2000 [00:00<00:00, 14689.90it/s]\n",
      "100%|██████████| 2000/2000 [00:00<00:00, 14849.70it/s]\n"
     ]
    }
   ],
   "source": [
    "import torch\n",
    "import torch.nn as nn\n",
    "from torch.utils.data import DataLoader, Dataset\n",
    "class QueryDataset(Dataset):\n",
    "    def __init__(self, data):\n",
    "        self.queries = [d['query'] for d in data]\n",
    "        self.positives = [d['positive'] for d in data]\n",
    "        self.negatives = [d['negative'] for d in data]\n",
    "        print('tokenize')\n",
    "        self.queries = [tokenize(i,punctuation_map=punctuation_map, stemmer=PorterStemmer(), junk_punctuations=True)  for i in tqdm(self.queries)]\n",
    "        self.positives = [tokenize(i,punctuation_map=punctuation_map, stemmer=PorterStemmer(), junk_punctuations=True)  for i in tqdm(self.positives)]\n",
    "        self.negatives = [tokenize(i,punctuation_map=punctuation_map, stemmer=PorterStemmer(), junk_punctuations=True)  for i in tqdm(self.negatives)]\n",
    "\n",
    "        print('average pooling')\n",
    "        self.queries = [self.average_pooling(i) for i in tqdm(self.queries)]\n",
    "        self.positives = [self.average_pooling(i) for i in tqdm(self.positives)]\n",
    "        self.negatives = [self.average_pooling(i) for i in tqdm(self.negatives)]\n",
    "    \n",
    "    def average_pooling(self, data: List[str]):\n",
    "        embed = np.zeros((1, 300))\n",
    "        count = 0\n",
    "        for d in data:\n",
    "            token = word_to_id.get(d, word_to_id['<unk>'])\n",
    "            embed+=embedding_dict.get(token, np.zeros(300))\n",
    "            count+=1\n",
    "        # print(data,embed)\n",
    "        return embed/max(count, 1)\n",
    "    \n",
    "    def __len__(self):\n",
    "        return len(self.queries)\n",
    "    \n",
    "    def __getitem__(self, idx):\n",
    "        return torch.tensor(self.queries[idx], dtype=torch.float32), \\\n",
    "                torch.tensor(self.positives[idx], dtype=torch.float32), \\\n",
    "                torch.tensor(self.negatives[idx], dtype=torch.float32)\n",
    "    \n",
    "    def collate_fn(batch):\n",
    "        queries, positives, negatives = zip(*batch)\n",
    "        queries = torch.stack(queries)\n",
    "        positives = torch.stack(positives)\n",
    "        negatives = torch.stack(negatives)\n",
    "        return queries, positives, negatives\n",
    "    \n",
    "\n",
    "# Wrap in dataset and dataloader\n",
    "train_dataset = QueryDataset(train[:2000])\n",
    "train_loader = DataLoader(train_dataset, batch_size=32, shuffle=True, collate_fn=QueryDataset.collate_fn)\n",
    "\n",
    "val_dataset = QueryDataset(val[:2000])\n",
    "val_loader = DataLoader(val_dataset, batch_size=32, shuffle=False, collate_fn=QueryDataset.collate_fn)"
   ]
  },
  {
   "cell_type": "code",
   "execution_count": 29,
   "metadata": {},
   "outputs": [
    {
     "data": {
      "text/plain": [
       "606993"
      ]
     },
     "execution_count": 29,
     "metadata": {},
     "output_type": "execute_result"
    }
   ],
   "source": [
    "len(train)"
   ]
  },
  {
   "cell_type": "code",
   "execution_count": 30,
   "metadata": {},
   "outputs": [
    {
     "name": "stdout",
     "output_type": "stream",
     "text": [
      "(tensor([[ 3.7476e-02,  3.8635e-02, -1.0449e-01,  1.0828e-01,  8.3008e-02,\n",
      "          1.5259e-02,  3.2166e-02, -3.1189e-02,  7.3494e-02,  1.1938e-01,\n",
      "         -4.0775e-02, -3.2043e-04, -8.8806e-02, -8.2397e-02, -9.9854e-02,\n",
      "         -3.0823e-02,  3.6026e-02,  2.7405e-02,  4.6143e-02,  3.6011e-02,\n",
      "          7.9834e-02, -1.0031e-01, -6.1331e-02, -2.2629e-02, -1.1841e-02,\n",
      "          4.4693e-02, -3.5889e-02,  1.3330e-01, -2.5635e-03, -6.2927e-02,\n",
      "         -3.3752e-02,  1.4587e-02, -9.5459e-02, -3.4180e-02, -1.1304e-01,\n",
      "          1.0235e-01,  1.1047e-02, -7.6599e-02, -1.3184e-02, -1.3733e-02,\n",
      "          4.4876e-02,  1.0596e-01,  5.3864e-03, -4.8965e-02, -1.4929e-01,\n",
      "         -5.6427e-02, -2.1194e-02,  4.5410e-02, -1.0242e-01,  6.1035e-02,\n",
      "          6.9519e-02,  3.6743e-02,  2.3499e-03, -3.7720e-02,  4.0161e-02,\n",
      "         -5.2979e-02, -4.4720e-02,  5.0049e-03,  6.5117e-02, -9.7656e-03,\n",
      "         -8.0612e-02, -4.5959e-02, -9.3750e-02, -5.4668e-02,  4.0131e-02,\n",
      "         -7.0801e-03, -6.4484e-02, -1.8188e-02,  3.0851e-02, -1.2573e-02,\n",
      "          1.0822e-01, -2.5391e-02,  9.5276e-02, -5.5634e-02, -1.3550e-02,\n",
      "          3.3325e-02,  3.7872e-02, -1.2268e-02, -1.8311e-02, -8.4900e-02,\n",
      "          1.3306e-02, -1.0504e-01,  8.1516e-02,  9.7839e-02, -1.8066e-02,\n",
      "         -5.1025e-02, -3.2684e-02,  2.1558e-01,  3.5949e-02,  3.9230e-02,\n",
      "         -6.1646e-03,  7.3486e-02, -7.2510e-02, -9.2316e-02,  5.0446e-02,\n",
      "         -1.3684e-01, -3.2089e-02, -4.7607e-02, -6.0921e-03,  1.2927e-01,\n",
      "          2.6520e-02, -3.7964e-02, -7.7820e-03, -1.9684e-03,  1.5436e-01,\n",
      "         -9.3811e-02,  1.9165e-02,  5.4243e-02, -4.9637e-02, -1.0291e-01,\n",
      "          3.9673e-02,  4.0649e-02, -9.7961e-02, -3.1677e-02,  3.7109e-02,\n",
      "          4.2480e-02, -9.1515e-02,  4.5868e-02,  4.6997e-02, -4.6112e-02,\n",
      "          6.5552e-02,  3.1311e-02, -5.5573e-02,  2.1484e-02,  6.2988e-02,\n",
      "         -1.5630e-02,  5.4932e-02,  3.4119e-02,  6.4880e-02,  8.9386e-02,\n",
      "          1.1734e-02, -9.1553e-05,  1.7380e-02, -4.5349e-02, -6.5338e-02,\n",
      "          1.1841e-02, -2.2769e-02, -5.2834e-02,  1.3123e-02,  7.0892e-02,\n",
      "          2.7037e-02, -9.4414e-02, -2.4872e-02,  1.1108e-02,  4.9164e-02,\n",
      "         -1.4832e-02,  2.9144e-02, -5.7640e-03, -7.2998e-02, -1.7342e-02,\n",
      "          1.3000e-01,  3.8452e-03,  2.6978e-02,  7.2685e-02, -9.4604e-02,\n",
      "          4.2480e-02, -1.9775e-02, -2.9273e-02, -3.0350e-02,  3.8361e-02,\n",
      "         -3.9276e-02,  6.7383e-02,  7.9529e-02, -3.0762e-02,  2.7797e-02,\n",
      "         -2.6390e-02,  2.1973e-02, -9.4452e-03, -1.5915e-02, -1.9165e-02,\n",
      "         -1.0419e-01,  5.3406e-03,  6.5552e-02, -1.3184e-01, -1.2976e-01,\n",
      "          9.5581e-02,  1.0950e-01, -1.0248e-01,  1.1908e-01,  7.9712e-02,\n",
      "         -7.1899e-02,  5.8533e-02,  7.0129e-02, -1.0828e-01,  4.4113e-02,\n",
      "         -6.0059e-02, -9.7961e-03,  1.4551e-01, -3.9124e-02,  8.5785e-02,\n",
      "          3.3447e-02, -6.9824e-02, -1.0356e-01,  2.5581e-02, -5.7739e-02,\n",
      "         -2.3987e-02,  7.5836e-02, -1.9257e-02, -3.3661e-02, -3.6957e-02,\n",
      "         -8.9111e-02, -3.1761e-02,  5.0354e-03,  3.8662e-02, -2.1240e-02,\n",
      "          5.2246e-02,  4.4678e-02,  9.9609e-02, -4.1260e-02,  7.1930e-02,\n",
      "          2.4536e-02,  2.3254e-02, -2.0493e-02,  1.5991e-01, -3.0144e-02,\n",
      "          1.2762e-01,  6.0303e-02, -1.5137e-02, -5.8243e-02,  3.4164e-02,\n",
      "         -8.4534e-03,  1.4392e-01, -1.6316e-02,  1.5717e-02, -7.5714e-02,\n",
      "         -2.5482e-02, -2.0026e-01, -3.7552e-02,  6.1035e-03, -5.8105e-02,\n",
      "          8.3435e-02,  4.5471e-02, -6.4636e-02,  7.8125e-03,  1.2000e-01,\n",
      "          8.7891e-02,  1.0291e-01, -1.4282e-02, -8.5449e-03,  4.4861e-02,\n",
      "          9.3140e-02, -1.0376e-02,  3.2410e-02, -2.6001e-02, -3.2806e-02,\n",
      "         -7.5104e-02,  3.7811e-02,  3.0975e-03,  6.3721e-02,  2.9297e-03,\n",
      "         -2.6337e-02,  6.6017e-02,  2.9510e-02,  4.9471e-02,  1.9531e-03,\n",
      "         -1.6083e-02, -1.1124e-02,  3.2104e-02,  5.5237e-02,  3.5278e-02,\n",
      "          4.9133e-02, -1.6150e-01, -3.1052e-02, -6.2378e-02,  6.2256e-03,\n",
      "         -1.2512e-02, -5.6885e-02, -3.1448e-02, -4.4464e-02, -3.7842e-03,\n",
      "          2.6855e-02,  3.7048e-02,  4.0283e-03,  5.0934e-02,  8.5564e-02,\n",
      "          2.1080e-02,  4.2068e-02,  1.5686e-02, -3.9673e-02, -6.0528e-02,\n",
      "         -1.0132e-02,  8.9844e-02,  7.6103e-02,  1.3065e-01,  2.5616e-02,\n",
      "         -6.4850e-02, -4.6326e-02,  1.1438e-01,  4.1351e-02, -4.3945e-03,\n",
      "          2.8381e-03,  4.6234e-02, -4.6280e-02,  7.5317e-02,  1.5029e-01,\n",
      "          7.9832e-02, -4.2725e-03, -1.0223e-01, -4.4556e-03, -5.6885e-02]]), tensor([[-3.0315e-02, -2.7295e-02, -2.1697e-02,  6.1133e-02, -2.8436e-02,\n",
      "          4.3549e-02,  3.6469e-03,  2.2383e-02,  4.6980e-02,  1.4604e-02,\n",
      "         -3.8442e-02, -2.3682e-02,  3.3401e-03, -1.9052e-02, -2.3233e-02,\n",
      "          9.5819e-02,  8.7075e-03,  1.5804e-02,  2.7213e-02, -2.7085e-02,\n",
      "         -7.1655e-02, -7.5882e-03, -2.2411e-02,  5.6451e-02, -2.1276e-02,\n",
      "          1.4221e-02, -6.2808e-02,  8.0143e-02,  1.8280e-02, -2.3285e-02,\n",
      "         -3.0984e-02, -6.4105e-02,  2.0325e-03, -5.0394e-02, -3.5103e-02,\n",
      "         -5.9441e-02, -1.0999e-02,  3.1011e-02, -2.4249e-02,  3.6331e-02,\n",
      "          5.0205e-03, -3.3723e-02,  5.9831e-02, -5.3757e-02, -3.5089e-02,\n",
      "         -8.7100e-02, -4.8569e-02,  2.8607e-02, -3.5332e-02,  2.9132e-02,\n",
      "         -2.7227e-02, -3.3203e-02,  3.7064e-02, -1.0152e-02, -3.3891e-02,\n",
      "         -4.3228e-03, -3.8645e-02, -1.8942e-02,  7.3074e-03, -4.7366e-02,\n",
      "         -5.5679e-02,  2.6240e-02, -7.4767e-02, -4.7802e-02,  2.9784e-02,\n",
      "         -1.1887e-02, -5.9576e-02, -1.1761e-02,  1.8041e-02,  3.5982e-02,\n",
      "         -3.5370e-03,  1.9511e-02,  7.5027e-02,  2.5681e-03, -5.6003e-02,\n",
      "         -4.3781e-02,  6.0691e-02,  1.5495e-02,  1.6399e-02, -1.4668e-02,\n",
      "          5.1361e-03, -1.2218e-02, -1.6630e-02,  3.8791e-02,  1.9710e-02,\n",
      "          4.3469e-02, -4.7051e-02,  5.3113e-02, -8.3010e-03,  4.0027e-02,\n",
      "          5.9595e-02,  3.8581e-02, -1.0596e-01, -9.7350e-02, -4.3728e-02,\n",
      "         -5.2177e-02,  1.4452e-03,  3.4015e-02,  6.6997e-02,  2.1865e-02,\n",
      "          4.1914e-02, -5.9076e-02, -2.8539e-02,  9.6436e-03,  1.1234e-02,\n",
      "         -4.2841e-02,  5.0873e-03,  1.0136e-02,  1.3879e-02, -5.9211e-02,\n",
      "          3.0762e-02, -3.5175e-02, -3.1437e-02, -2.2954e-02,  2.6610e-02,\n",
      "          3.7527e-02, -1.8726e-03, -5.9211e-02,  7.0876e-02,  2.1598e-02,\n",
      "          2.2375e-02,  4.4930e-03, -6.0737e-02,  4.5812e-02,  7.0848e-02,\n",
      "          3.4171e-02, -1.2056e-02, -4.5058e-02,  5.3151e-02,  6.6997e-02,\n",
      "         -7.2647e-02, -9.5718e-02, -2.3619e-02, -7.1953e-03, -5.3907e-02,\n",
      "         -3.1578e-02, -2.5864e-02, -8.5906e-03, -4.2175e-02,  5.1561e-02,\n",
      "          2.0549e-02, -4.2722e-02, -3.2153e-02,  3.3074e-02, -3.1625e-02,\n",
      "          8.6067e-03, -9.5177e-04, -3.9008e-02, -1.7578e-02, -2.6122e-02,\n",
      "          7.7558e-02,  1.9855e-02, -6.3146e-02,  8.2993e-03, -3.8559e-03,\n",
      "         -1.3221e-02, -5.3047e-03,  1.9452e-02, -6.5286e-02, -3.5802e-02,\n",
      "         -4.0667e-02,  4.8392e-02,  2.6584e-02, -1.8578e-02, -1.0551e-02,\n",
      "          1.8311e-04,  6.2967e-02, -7.6864e-02,  2.7326e-03, -4.5143e-02,\n",
      "         -8.2284e-02, -2.8326e-02, -2.1068e-02, -8.6326e-02, -4.6477e-02,\n",
      "         -6.5598e-03,  8.1720e-02, -2.1327e-02, -2.3587e-02, -3.7555e-02,\n",
      "         -8.3439e-02, -8.5480e-03,  6.2522e-02,  2.2687e-02,  9.9277e-03,\n",
      "          8.8501e-03,  4.0359e-03,  6.7006e-02,  3.9667e-02, -1.3069e-03,\n",
      "          5.1270e-04, -1.5324e-02, -3.7262e-02,  2.6408e-02, -5.5348e-02,\n",
      "          4.5197e-02,  4.9516e-02, -6.3629e-03, -6.2285e-02, -2.7097e-02,\n",
      "         -6.6977e-02,  5.7021e-02, -2.9771e-02,  2.2095e-02,  1.6832e-02,\n",
      "         -5.0873e-02, -3.7657e-02, -2.1649e-02,  3.5855e-02, -2.9218e-02,\n",
      "          5.9600e-02, -8.5382e-03, -2.2860e-02, -1.0181e-02, -5.3616e-02,\n",
      "          8.1021e-02,  5.2170e-02,  1.3402e-02, -8.7276e-02, -9.7485e-03,\n",
      "          7.2693e-03,  7.5603e-02,  3.9809e-02, -4.8758e-02,  3.5783e-02,\n",
      "         -3.9543e-02, -1.8407e-02,  4.3900e-03,  7.6160e-03, -5.8252e-02,\n",
      "          4.0009e-02, -7.4977e-02,  9.4604e-03, -2.6552e-02, -2.7601e-02,\n",
      "         -5.0295e-03,  2.7294e-02, -8.5518e-02, -1.3058e-02,  7.8172e-03,\n",
      "          5.2753e-02,  1.9537e-02,  4.6837e-02, -9.5882e-02, -1.4610e-02,\n",
      "         -4.1885e-03, -6.0600e-02,  4.1089e-02, -1.4766e-02, -7.5868e-02,\n",
      "          3.7801e-02,  4.6468e-02,  9.8358e-03,  1.3181e-02, -1.4725e-03,\n",
      "         -1.2660e-02,  6.8726e-03, -1.9059e-02, -1.1978e-02, -2.3416e-02,\n",
      "          5.4032e-02, -1.0617e-02, -1.9257e-02,  9.1553e-05,  5.1193e-03,\n",
      "          1.6707e-02,  1.9855e-02,  4.2563e-02, -5.4768e-02,  2.7294e-03,\n",
      "          1.9030e-02, -2.0133e-02,  2.7955e-02,  3.7444e-02,  8.2693e-02,\n",
      "         -4.4708e-04, -8.6493e-02, -3.9819e-02, -1.8279e-02, -1.0663e-02,\n",
      "         -5.0285e-02,  3.8055e-03,  3.2819e-02,  8.4180e-02,  4.2435e-03,\n",
      "          2.0285e-02,  2.6260e-03,  2.9394e-02,  4.3225e-02,  4.6238e-02,\n",
      "          2.2732e-02,  2.5394e-02, -6.5229e-02,  2.0410e-02, -2.4826e-02,\n",
      "          1.7682e-02, -2.9370e-02, -4.8550e-02,  8.3885e-03, -5.5236e-02]]), tensor([[-1.2953e-03,  3.8764e-02,  1.5718e-02,  6.3431e-03, -3.4351e-02,\n",
      "         -6.1197e-03,  1.3771e-02, -4.7136e-02,  3.5066e-02,  3.5532e-02,\n",
      "         -3.3999e-03, -7.4117e-02, -2.3193e-03, -1.6070e-02, -4.0943e-02,\n",
      "          5.3340e-02,  1.8695e-02,  3.2588e-02, -2.3252e-02,  9.9035e-03,\n",
      "          8.3166e-03, -4.2566e-03, -4.9122e-03,  1.7143e-02, -7.1316e-02,\n",
      "         -1.4481e-02, -3.4682e-02, -4.4454e-03, -2.4896e-02, -2.4554e-02,\n",
      "         -9.0422e-05, -3.0769e-02, -2.1376e-02,  4.8828e-03, -4.4632e-02,\n",
      "         -5.7102e-02,  2.1218e-02, -8.1923e-03, -7.3468e-03,  2.6002e-03,\n",
      "          2.1743e-02, -3.5963e-02,  7.9572e-03, -3.3465e-03,  3.1919e-03,\n",
      "         -6.1065e-02, -2.5557e-02,  2.0157e-02, -6.0334e-02,  1.6301e-02,\n",
      "         -3.2109e-02,  9.0897e-03,  1.7501e-02, -3.0201e-03, -5.5429e-03,\n",
      "          2.4052e-03, -3.0694e-02, -5.2626e-02,  1.5078e-02, -4.4527e-02,\n",
      "         -3.7435e-03,  2.8127e-02, -3.3994e-02, -2.3957e-02, -1.0003e-02,\n",
      "         -4.1319e-02, -1.8812e-02,  2.9487e-02, -9.5034e-03,  3.7417e-02,\n",
      "         -1.9422e-02, -3.7955e-03,  5.3484e-02, -1.3214e-02, -8.1143e-02,\n",
      "         -1.7944e-02,  7.9138e-02,  1.4095e-02,  9.9352e-03, -1.2035e-02,\n",
      "          3.3126e-02,  4.2001e-03,  1.8672e-03, -2.2890e-02,  3.9842e-02,\n",
      "         -1.2832e-02, -1.1178e-02,  3.6742e-02,  1.1920e-02, -5.5960e-03,\n",
      "          9.0965e-03, -7.0439e-03, -1.4401e-02,  4.1594e-04, -2.0004e-02,\n",
      "         -5.7916e-03, -5.3168e-03,  2.5174e-02,  4.7915e-02, -1.4800e-02,\n",
      "         -2.1317e-03,  3.7073e-04,  4.6681e-03, -1.3663e-02, -2.2890e-02,\n",
      "         -3.3104e-02, -3.4134e-03,  1.2524e-02,  1.1871e-02,  2.1041e-02,\n",
      "         -3.7708e-02,  1.9215e-04, -3.9503e-03,  1.0941e-02,  3.3972e-02,\n",
      "          2.1358e-02, -4.9687e-03, -1.4438e-02,  8.1923e-03,  3.4564e-03,\n",
      "          1.0136e-02, -2.4060e-02, -2.6209e-02,  1.1814e-02,  8.1661e-03,\n",
      "         -3.0224e-02, -3.6323e-02, -4.7659e-02,  6.4941e-02,  2.9912e-02,\n",
      "          4.7915e-02,  4.7517e-03, -1.4266e-02, -1.3846e-03,  1.4080e-02,\n",
      "          1.1995e-02,  1.7189e-02, -3.7797e-03,  4.0211e-02,  4.5304e-02,\n",
      "          9.0422e-05, -1.6606e-02, -4.6556e-02, -3.7119e-02,  3.7377e-02,\n",
      "         -1.2613e-02,  5.4327e-02,  2.5784e-02, -4.3900e-02, -2.2122e-02,\n",
      "          4.5690e-02, -5.2599e-02, -1.9965e-02,  3.4372e-02,  1.2103e-02,\n",
      "         -4.3195e-02, -1.6686e-02, -2.1769e-02, -3.4871e-02, -3.3334e-02,\n",
      "          2.1380e-02,  1.4323e-02, -1.4599e-02,  2.3067e-02,  1.4434e-02,\n",
      "         -1.4418e-02,  2.2398e-02, -5.5158e-04, -6.6461e-02,  1.5287e-02,\n",
      "         -3.8074e-02, -4.1504e-02, -9.5510e-03, -7.9843e-03, -2.0576e-02,\n",
      "         -2.9225e-02,  5.5908e-02, -8.6968e-02, -1.7969e-02, -1.8442e-02,\n",
      "         -1.5240e-02, -3.0174e-02,  1.5951e-02,  2.0327e-02,  6.1759e-03,\n",
      "         -2.0277e-02, -8.8840e-03, -2.4776e-03,  1.1800e-03,  4.3859e-02,\n",
      "          1.3786e-02, -2.6828e-02,  3.5446e-03,  6.7206e-03,  1.3581e-02,\n",
      "          3.1534e-02, -1.6459e-02, -8.0811e-02,  2.7059e-02, -2.4037e-02,\n",
      "          6.1115e-02,  7.3966e-03, -2.6109e-02, -1.0568e-02,  3.0102e-03,\n",
      "         -2.9803e-02,  1.4440e-02, -6.2165e-03, -4.5654e-02, -1.5960e-02,\n",
      "          3.0427e-03, -1.8238e-02, -5.0114e-02,  2.7535e-02, -1.0023e-02,\n",
      "          4.0573e-02,  2.1742e-02,  2.1105e-02, -4.4521e-02,  5.0004e-03,\n",
      "         -1.1794e-02,  2.2789e-02, -1.6271e-02, -6.0854e-03,  2.4743e-02,\n",
      "          1.7008e-02, -2.0435e-03,  5.0930e-03,  2.5217e-03, -1.1475e-02,\n",
      "          8.1380e-05,  1.9133e-02,  2.4226e-02,  1.5616e-02, -3.1908e-03,\n",
      "         -1.9199e-02,  1.0567e-02, -3.2491e-03,  2.9937e-02, -7.9888e-03,\n",
      "          3.7634e-02,  4.6658e-03,  3.5979e-02, -1.2037e-02,  1.7691e-02,\n",
      "         -3.8384e-02, -1.4988e-03,  4.6179e-02, -3.1709e-02, -3.8598e-02,\n",
      "         -3.3908e-03,  2.4493e-02,  3.2554e-02,  4.4899e-02, -1.2259e-02,\n",
      "         -2.4618e-02, -3.3755e-02, -3.9469e-03,  3.8570e-02, -6.9998e-03,\n",
      "          1.4260e-02, -2.2117e-02, -1.8808e-03, -3.0032e-02,  3.7455e-02,\n",
      "          3.1115e-02, -2.3691e-02, -2.5300e-02, -1.6538e-02, -2.9790e-02,\n",
      "         -2.4537e-02,  4.0012e-04,  5.3408e-02,  2.1897e-02,  1.8329e-02,\n",
      "         -8.3889e-03, -2.6892e-02, -7.6552e-02, -1.7518e-02,  1.8084e-04,\n",
      "         -4.9280e-03,  1.0074e-02,  3.7458e-02,  1.6507e-02,  1.3694e-02,\n",
      "         -4.0243e-02,  3.3333e-02,  1.7479e-02, -2.2172e-02,  8.9970e-04,\n",
      "         -1.6606e-02,  9.3836e-03,  1.2481e-02, -1.3093e-02, -2.2664e-02,\n",
      "         -2.2931e-02,  7.0332e-03,  8.9213e-03, -2.2469e-02,  1.3952e-02]]))\n",
      "torch.Size([1, 300])\n",
      "torch.Size([1, 300])\n"
     ]
    }
   ],
   "source": [
    "for i in train_dataset:\n",
    "    keep_one = i\n",
    "    print(i)\n",
    "    print(i[0].shape)\n",
    "    print(i[1].shape)\n",
    "    break"
   ]
  },
  {
   "cell_type": "code",
   "execution_count": 31,
   "metadata": {},
   "outputs": [],
   "source": [
    "# import os\n",
    "# import sys\n",
    "# src_path = os.path.abspath(os.path.join(os.getcwd(), '..', 'data'))\n",
    "# if src_path not in sys.path:\n",
    "#     sys.path.insert(0, src_path)"
   ]
  },
  {
   "cell_type": "code",
   "execution_count": 32,
   "metadata": {},
   "outputs": [],
   "source": [
    "class OneTower(nn.Module):\n",
    "    def __init__(self, embed_dim, med_dim, output_dim):\n",
    "        super(OneTower, self).__init__()\n",
    "        self.fc = nn.Linear(embed_dim, med_dim)\n",
    "        self.relu = nn.ReLU()\n",
    "        self.fc1 = nn.Linear(med_dim, output_dim)\n",
    "    \n",
    "    def forward(self, x):\n",
    "        x = self.fc(x)\n",
    "        x = self.relu(x)\n",
    "        x = self.fc1(x)\n",
    "        return x\n",
    "    \n",
    "class TwoTowerModel(nn.Module):\n",
    "    def __init__(self, embed_dim, med_dim, output_dim):\n",
    "        super(TwoTowerModel, self).__init__()\n",
    "        self.query_tower = OneTower(embed_dim, med_dim, output_dim)\n",
    "        self.doc_tower = OneTower(embed_dim, med_dim, output_dim)\n",
    "        \n",
    "    def forward(self, query, doc_positive, doc_negative):\n",
    "        \"\"\"\n",
    "        :param query: Tensor of shape (batch_size, query_input_dim)\n",
    "        :param positive_context: Tensor of shape (batch_size, seq_length) containing token indices\n",
    "        :param candidate: Tensor of shape (batch_size, query_input_dim) for negative samples\n",
    "        \"\"\"\n",
    "        query_embed = self.query_tower(query)\n",
    "        positive_embed = self.doc_tower(doc_positive)\n",
    "        negative_embed = self.doc_tower(doc_negative)\n",
    "        return query_embed, positive_embed, negative_embed"
   ]
  },
  {
   "cell_type": "code",
   "execution_count": 33,
   "metadata": {},
   "outputs": [
    {
     "name": "stdout",
     "output_type": "stream",
     "text": [
      "Epoch 1, Train Loss: 0.042753901332616806, Validation Loss: 0.042753901332616806\n",
      "Epoch 2, Train Loss: 0.042753901332616806, Validation Loss: 0.042753901332616806\n",
      "Epoch 3, Train Loss: 0.042753901332616806, Validation Loss: 0.042753901332616806\n",
      "Epoch 4, Train Loss: 0.042753901332616806, Validation Loss: 0.042753901332616806\n",
      "Epoch 5, Train Loss: 0.042753901332616806, Validation Loss: 0.042753901332616806\n",
      "Epoch 6, Train Loss: 0.042753901332616806, Validation Loss: 0.042753901332616806\n",
      "Epoch 7, Train Loss: 0.042753901332616806, Validation Loss: 0.042753901332616806\n",
      "Epoch 8, Train Loss: 0.042753901332616806, Validation Loss: 0.042753901332616806\n",
      "Epoch 9, Train Loss: 0.042753901332616806, Validation Loss: 0.042753901332616806\n",
      "Epoch 10, Train Loss: 0.042753901332616806, Validation Loss: 0.042753901332616806\n",
      "Epoch 11, Train Loss: 0.042753901332616806, Validation Loss: 0.042753901332616806\n",
      "Epoch 12, Train Loss: 0.042753901332616806, Validation Loss: 0.042753901332616806\n",
      "Epoch 13, Train Loss: 0.042753901332616806, Validation Loss: 0.042753901332616806\n",
      "Epoch 14, Train Loss: 0.042753901332616806, Validation Loss: 0.042753901332616806\n",
      "Epoch 15, Train Loss: 0.042753901332616806, Validation Loss: 0.042753901332616806\n",
      "Epoch 16, Train Loss: 0.042753901332616806, Validation Loss: 0.042753901332616806\n",
      "Epoch 17, Train Loss: 0.042753901332616806, Validation Loss: 0.042753901332616806\n",
      "Epoch 18, Train Loss: 0.042753901332616806, Validation Loss: 0.042753901332616806\n",
      "Epoch 19, Train Loss: 0.042753901332616806, Validation Loss: 0.042753901332616806\n",
      "Epoch 20, Train Loss: 0.042753901332616806, Validation Loss: 0.042753901332616806\n",
      "Epoch 21, Train Loss: 0.042753901332616806, Validation Loss: 0.042753901332616806\n",
      "Epoch 22, Train Loss: 0.042753901332616806, Validation Loss: 0.042753901332616806\n",
      "Epoch 23, Train Loss: 0.042753901332616806, Validation Loss: 0.042753901332616806\n",
      "Epoch 24, Train Loss: 0.042753901332616806, Validation Loss: 0.042753901332616806\n",
      "Epoch 25, Train Loss: 0.042753901332616806, Validation Loss: 0.042753901332616806\n",
      "Epoch 26, Train Loss: 0.042753901332616806, Validation Loss: 0.042753901332616806\n",
      "Epoch 27, Train Loss: 0.042753901332616806, Validation Loss: 0.042753901332616806\n",
      "Epoch 28, Train Loss: 0.042753901332616806, Validation Loss: 0.042753901332616806\n",
      "Epoch 29, Train Loss: 0.042753901332616806, Validation Loss: 0.042753901332616806\n",
      "Epoch 30, Train Loss: 0.042753901332616806, Validation Loss: 0.042753901332616806\n"
     ]
    }
   ],
   "source": [
    "# Hyperparameters (example values)\n",
    "output_dim = 64\n",
    "med_dim = 128\n",
    "embed_dim = 300\n",
    "batch_size = 32\n",
    "\n",
    "# Instantiate the model\n",
    "model = TwoTowerModel(embed_dim, med_dim,  output_dim)\n",
    "\n",
    "class TripletLoss(nn.Module):\n",
    "    def __init__(self, margin=1.0):\n",
    "        super(TripletLoss, self).__init__()\n",
    "        self.margin = margin\n",
    "\n",
    "    def forward(self, query, pos_doc, neg_doc):\n",
    "        pos_sim = F.cosine_similarity(query, pos_doc)\n",
    "        neg_sim = F.cosine_similarity(query, neg_doc)\n",
    "        \n",
    "        # Compute triplet loss with margin\n",
    "        loss = torch.clamp(self.margin - pos_sim + neg_sim, min=0.0)\n",
    "        return loss.mean()\n",
    "\n",
    "margin = 0.01\n",
    "optimizer = torch.optim.Adam(model.parameters(), lr=0.001)\n",
    "#iterate over batches of the data\n",
    "train_losses = []\n",
    "val_losses = []\n",
    "epochs = 30\n",
    "for epoch in range(epochs):\n",
    "    model.train()\n",
    "    for i, (query, positive, negative) in enumerate(val_loader):\n",
    "        query_embed, positive_embed, negative_embed = model(query, positive, negative)\n",
    "        query_embed = query_embed.float()\n",
    "        positive_embed = positive_embed.float()\n",
    "        negative_embed = negative_embed.float()\n",
    "        optimizer.zero_grad()\n",
    "\n",
    "        loss = TripletLoss(margin)(query_embed, positive_embed, negative_embed)\n",
    "        loss.backward()\n",
    "\n",
    "        # Backward pass\n",
    "        optimizer.step()\n",
    "        train_losses.append(loss.item())\n",
    "    train_loss = loss.item()\n",
    "            \n",
    "    # Validation\n",
    "    model.eval()  # Set model to evaluation mode\n",
    "    valid_loss = 0.0\n",
    "    with torch.no_grad():  \n",
    "        for query, positive, negative in val_loader:\n",
    "            query_embed, positive_embed, negative_embed = model(query, positive, negative)\n",
    "            query_embed = query_embed.float()\n",
    "            positive_embed = positive_embed.float()\n",
    "            negative_embed = negative_embed.float()\n",
    "            loss = TripletLoss(margin)(query_embed, positive_embed, negative_embed)\n",
    "            valid_loss += loss.item()\n",
    "        valid_loss = loss.item()\n",
    "    print(f\"Epoch {epoch + 1}, Train Loss: {train_loss}, Validation Loss: {valid_loss}\")\n"
   ]
  },
  {
   "cell_type": "code",
   "execution_count": 34,
   "metadata": {},
   "outputs": [
    {
     "data": {
      "image/png": "[encoded data removed]",
      "text/plain": [
       "<Figure size 640x480 with 1 Axes>"
      ]
     },
     "metadata": {},
     "output_type": "display_data"
    }
   ],
   "source": [
    "import matplotlib.pyplot as plt\n",
    "plt.plot(train_losses, label='Training loss')\n",
    "plt.plot(val_losses, label='Validation loss')\n",
    "plt.xlabel('Batch')\n",
    "plt.ylabel('Loss')\n",
    "plt.legend(['Training loss', 'Validation loss'])\n",
    "plt.show()"
   ]
  },
  {
   "cell_type": "code",
   "execution_count": null,
   "metadata": {},
   "outputs": [],
   "source": []
  }
 ],
 "metadata": {
  "kernelspec": {
   "display_name": "mlx_course",
   "language": "python",
   "name": "python3"
  },
  "language_info": {
   "codemirror_mode": {
    "name": "ipython",
    "version": 3
   },
   "file_extension": ".py",
   "mimetype": "text/x-python",
   "name": "python",
   "nbconvert_exporter": "python",
   "pygments_lexer": "ipython3",
   "version": "3.11.11"
  }
 },
 "nbformat": 4,
 "nbformat_minor": 2
}
